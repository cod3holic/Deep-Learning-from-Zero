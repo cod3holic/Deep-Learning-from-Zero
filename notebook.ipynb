{
 "metadata": {
  "language_info": {
   "codemirror_mode": {
    "name": "ipython",
    "version": 3
   },
   "file_extension": ".py",
   "mimetype": "text/x-python",
   "name": "python",
   "nbconvert_exporter": "python",
   "pygments_lexer": "ipython3",
   "version": "3.8.10"
  },
  "orig_nbformat": 2,
  "kernelspec": {
   "name": "python3810jvsc74a57bd0916dbcbb3f70747c44a77c7bcd40155683ae19c65e1c03b4aa3499c5328201f1",
   "display_name": "Python 3.8.10 64-bit"
  },
  "metadata": {
   "interpreter": {
    "hash": "916dbcbb3f70747c44a77c7bcd40155683ae19c65e1c03b4aa3499c5328201f1"
   }
  }
 },
 "nbformat": 4,
 "nbformat_minor": 2,
 "cells": [
  {
   "cell_type": "code",
   "execution_count": 1,
   "metadata": {},
   "outputs": [],
   "source": [
    "import numpy as np\n",
    "import unittest\n",
    "import heapq as hq\n",
    "import weakref\n",
    "import contextlib"
   ]
  },
  {
   "cell_type": "code",
   "execution_count": 2,
   "metadata": {},
   "outputs": [],
   "source": [
    "class Config:\n",
    "    enable_backprop = True\n",
    "\n",
    "@contextlib.contextmanager\n",
    "def using_config(name, value):\n",
    "    old_value = getattr(Config, name)\n",
    "    setattr(Config, name, value)\n",
    "    try:\n",
    "        yield\n",
    "    finally:\n",
    "        setattr(Config, name, old_value)"
   ]
  },
  {
   "cell_type": "code",
   "execution_count": 3,
   "metadata": {},
   "outputs": [],
   "source": [
    "def numerical_diff(f, x, eps=1e-4):\n",
    "    return (f(Variable(x.data+eps)).data - f(Variable(x.data-eps)).data) / (2*eps)\n",
    "\n",
    "def as_array(x):\n",
    "    if np.isscalar(x):\n",
    "        return np.array(x)\n",
    "    return x\n",
    "\n",
    "def as_variable(obj):\n",
    "    if isinstance(obj, Variable):\n",
    "        return obj\n",
    "    return Variable(obj)\n",
    "\n",
    "def no_grad():\n",
    "    return using_config('enable_backprop', False)"
   ]
  },
  {
   "cell_type": "code",
   "execution_count": 4,
   "metadata": {},
   "outputs": [],
   "source": [
    "class Variable:\n",
    "    __array_priority__ = 200\n",
    "\n",
    "    def __init__(self, data, name=None):\n",
    "        if data is not None:\n",
    "            if not isinstance(data, np.ndarray):\n",
    "                raise TypeError(f'{type(data)}는 지원하지 않습니다.')\n",
    "        self.name = name\n",
    "        self.data = data\n",
    "        self.grad = None\n",
    "        self.creator = None\n",
    "        self.generation = 0\n",
    "\n",
    "    def __len__(self):\n",
    "        return len(self.data)\n",
    "    \n",
    "    def __repr__(self):\n",
    "        if self.data is None:\n",
    "            return 'variable(None)'\n",
    "        p = str(self.data).replace(\"\\\\n\", \"\\\\n\"+\" \"*9)\n",
    "        return f'variable({p})'\n",
    "\n",
    "    @property\n",
    "    def shape(self):\n",
    "        return self.data.shape\n",
    "\n",
    "    @property\n",
    "    def ndim(self):\n",
    "        return self.data.size\n",
    "    \n",
    "    @property\n",
    "    def dtype(self):\n",
    "        return self.data.dtype\n",
    "\n",
    "    def set_creator(self, func):\n",
    "        self.creator = func\n",
    "        self.generation = func.generation + 1\n",
    "\n",
    "    def cleargrad(self):\n",
    "        self.grad = None\n",
    "\n",
    "    def backward(self, retain_grad=False):\n",
    "        if self.grad is None:\n",
    "            self.grad = np.ones_like(self.data)\n",
    "        seen_set = set()\n",
    "        funcs = []\n",
    "\n",
    "        def add_func(f):\n",
    "            if f not in seen_set:\n",
    "                seen_set.add(f)\n",
    "                hq.heappush(funcs, f)\n",
    "        \n",
    "        add_func(self.creator)\n",
    "\n",
    "        while funcs:\n",
    "            f = hq.heappop(funcs)\n",
    "            gys = [output().grad for output in f.outputs]\n",
    "            gxs = f.backward(*gys)\n",
    "            if not isinstance(gxs, tuple):\n",
    "                gxs = (gxs, )\n",
    "            for x, gx in zip(f.inputs, gxs):\n",
    "                x.grad = gx if x.grad is None else gx + x.grad\n",
    "                if x.creator is not None:\n",
    "                    add_func(x.creator)\n",
    "            if not retain_grad:\n",
    "                for y in f.outputs:\n",
    "                    y().grad = None\n",
    "\n",
    "class Function:\n",
    "    def __call__(self, *inputs):\n",
    "        inputs = [as_variable(x) for x in inputs]\n",
    "        xs = [x.data for x in inputs]\n",
    "        ys = self.forward(*xs)\n",
    "        if not isinstance(ys, tuple):\n",
    "            ys = (ys, )\n",
    "        outputs = [Variable(as_array(y)) for y in ys]\n",
    "        \n",
    "        if Config.enable_backprop:\n",
    "            self.generation = max([x.generation for x in inputs])\n",
    "            for output in outputs:\n",
    "                output.set_creator(self)\n",
    "            self.inputs = inputs\n",
    "            self.outputs = [weakref.ref(output) for output in outputs]\n",
    "\n",
    "            return outputs if len(outputs) > 1 else outputs[0]\n",
    "\n",
    "    def __lt__(self, other): # this for generation heap\n",
    "        if self.generation > other.generation:\n",
    "            return True\n",
    "        return False\n",
    "\n",
    "    def __str__(self):\n",
    "        return f'{self.generation} gen : [{__class__}], {id(self)}'\n",
    "\n",
    "    def forward(self, x):\n",
    "        raise NotImplementedError()\n",
    "\n",
    "    def backward(self, x):\n",
    "        raise NotImplementedError()"
   ]
  },
  {
   "cell_type": "code",
   "execution_count": 13,
   "metadata": {},
   "outputs": [],
   "source": [
    "class Neg(Function):\n",
    "    def forward(self, x):\n",
    "        return -1 * x\n",
    "    def backward(self, gy):\n",
    "        return -1*gy\n",
    "\n",
    "class Pow(Function):\n",
    "    def __init__(self, c):\n",
    "        self.c = c\n",
    "    def forward(self, x):\n",
    "        return x**self.c\n",
    "    def backward(self, gy):\n",
    "        x = self.inputs[0].data\n",
    "        c = self.c\n",
    "        return gy*c*x**(c-1)\n",
    "\n",
    "class Square(Function):\n",
    "    def forward(self, x):\n",
    "        return x**2\n",
    "    def backward(self, gy):\n",
    "        x = self.inputs[0].data\n",
    "        return 2 * x * gy\n",
    "\n",
    "class Exp(Function):\n",
    "    def forward(self, x):\n",
    "        return np.exp(x)\n",
    "    def backward(self, gy):\n",
    "        return np.exp(self.inputs.data) * gy\n",
    "\n",
    "class Add(Function):\n",
    "    def forward(self, x0, x1):\n",
    "        return x0 + x1\n",
    "    def backward(self, gy):\n",
    "        return gy, gy\n",
    "\n",
    "class Mul(Function):\n",
    "    def forward(self, x0, x1):\n",
    "        return x0 * x1\n",
    "    def backward(self, gy):\n",
    "        x0, x1 = self.inputs[0].data, self.inputs[1].data\n",
    "        return x1*gy, x0*gy\n",
    "\n",
    "class Sub(Function):\n",
    "    def forward(self, x0, x1):\n",
    "        return x0 - x1\n",
    "    def backward(self, gy):\n",
    "        return gy, -gy\n",
    "\n",
    "class Div(Function):\n",
    "    def forward(self, x0, x1):\n",
    "        return x0 / x1\n",
    "    def backward(self, gy):\n",
    "        x0, x1 = self.inputs[0].data, self.inputs[1].data\n",
    "        return gy/x1, (-x0/x1**2)*gy\n",
    "\n",
    "def neg(x):\n",
    "    return Neg()(x)\n",
    "def pow(x, c):\n",
    "    return Pow(c)(x)\n",
    "def square(x):\n",
    "    return Square()(x)\n",
    "def exp(x):\n",
    "    return Exp()(x)\n",
    "def add(x, y):\n",
    "    y = as_array(y)\n",
    "    return Add()(x, y)\n",
    "def mul(x, y):\n",
    "    y = as_array(y)\n",
    "    return Mul()(x, y)\n",
    "def sub(x, y):\n",
    "    y = as_array(y)\n",
    "    return Sub()(x, y)\n",
    "def rsub(x, y):\n",
    "    y = as_array(y)\n",
    "    return Sub()(y, x)\n",
    "def div(x, y):\n",
    "    y = as_array(y)\n",
    "    return Div()(x, y)\n",
    "def rdiv(x, y):\n",
    "    y = as_array(y)\n",
    "    return Div()(y, x)\n",
    "\n",
    "Variable.__neg__ = neg\n",
    "Variable.__pow__ = pow\n",
    "Variable.__add__ = add\n",
    "Variable.__radd__ = add\n",
    "Variable.__mul__ = mul\n",
    "Variable.__rmul__ = mul\n",
    "Variable.__sub__ = sub\n",
    "Variable.__rsub__ = rsub\n",
    "Variable.__truediv__ = div\n",
    "Variable.__rtruediv__ = rdiv"
   ]
  },
  {
   "cell_type": "code",
   "execution_count": 6,
   "metadata": {},
   "outputs": [],
   "source": [
    "class SquareTest(unittest.TestCase):\n",
    "    def test_forward(self):\n",
    "        x = Variable(np.array(2.0))\n",
    "        y = square(x)\n",
    "        expected = np.array(4.0)\n",
    "        self.assertEqual(y.data, expected)\n",
    "    def test_backward(self):\n",
    "        x = Variable(np.array(3.0))\n",
    "        y = square(x)\n",
    "        y.backward()\n",
    "        expected = np.array(6)\n",
    "        self.assertEqual(x.grad, expected)\n",
    "    def test_gradient_check(self):\n",
    "        x = Variable(np.random.rand(1))\n",
    "        y = square(x)\n",
    "        y.backward()\n",
    "        num_grad = numerical_diff(square, x)\n",
    "        flg = np.allclose(x.grad, num_grad)\n",
    "        self.assertTrue(flg)"
   ]
  },
  {
   "cell_type": "code",
   "execution_count": 7,
   "metadata": {},
   "outputs": [
    {
     "output_type": "stream",
     "name": "stdout",
     "text": [
      "140396939479136\n9484816\n"
     ]
    }
   ],
   "source": [
    "print(id(hq))\n",
    "d = hq.heapify([])\n",
    "print(id(d))"
   ]
  },
  {
   "cell_type": "code",
   "execution_count": 8,
   "metadata": {},
   "outputs": [
    {
     "output_type": "stream",
     "name": "stdout",
     "text": [
      "32.0 64.0 None\nvariable(2.0) variable(4.0) variable(16.0) variable(16.0) variable(32.0)\n"
     ]
    }
   ],
   "source": [
    "x = Variable(np.array(2.0))\n",
    "a = square(x)\n",
    "b = square(a)\n",
    "c = square(a)\n",
    "y = add(b, c)\n",
    "y.backward()\n",
    "print(y.data, x.grad, a.grad)\n",
    "print(x, a, b, c, y)"
   ]
  },
  {
   "cell_type": "code",
   "execution_count": 17,
   "metadata": {},
   "outputs": [
    {
     "output_type": "stream",
     "name": "stdout",
     "text": [
      "variable(8.0) 12.0\n"
     ]
    }
   ],
   "source": [
    "x = Variable(np.array(2.0))\n",
    "y = x ** 3\n",
    "y.backward()\n",
    "print(y, x.grad)"
   ]
  },
  {
   "cell_type": "code",
   "execution_count": 10,
   "metadata": {},
   "outputs": [],
   "source": [
    "with no_grad():\n",
    "    x = Variable(np.array(2.0))\n",
    "    y = square(x)"
   ]
  },
  {
   "cell_type": "code",
   "execution_count": 5,
   "metadata": {},
   "outputs": [
    {
     "output_type": "stream",
     "name": "stdout",
     "text": [
      "-5376.0 8064.0\n"
     ]
    }
   ],
   "source": [
    "import numpy as np\n",
    "from dezero import Variable\n",
    "\n",
    "def goldstein(x, y):\n",
    "    z = (1 + (x+y+1)**2 * (19 - 14*x + 3*x**2 - 14*y + 6*x*y + 3*y**2)) * (30 + (2*x - 3*y)**2 * (18 - 32*x + 12*x**2 + 48*y - 36*x*y + 27*y**2))\n",
    "    return z\n",
    "\n",
    "x = Variable(np.array(1.0))\n",
    "y = Variable(np.array(1.0))\n",
    "z = goldstein(x, y)\n",
    "z.backward()\n",
    "print(x.grad, y.grad)"
   ]
  },
  {
   "cell_type": "code",
   "execution_count": 23,
   "metadata": {},
   "outputs": [],
   "source": [
    "if '__file__' in globals():\n",
    "    import os, sys\n",
    "    sys.path.append(os.path.join(os.path.dirname(__file__), '..')) # 환경변수(PATH) 설정"
   ]
  },
  {
   "cell_type": "code",
   "execution_count": 33,
   "metadata": {},
   "outputs": [
    {
     "output_type": "stream",
     "name": "stdout",
     "text": [
      "digraph g {\n139866525213456 [label=\"\", color=orange, style=filled]\n139866525213936 [label=\"Mul\", color=lightblue, style=filled, shape=box]\n139866525325488 -> 139866525213936\n139866525213792 -> 139866525213936\n139866525213936 -> 139866525213456\n139866525325488 [label=\"() float64\", color=orange, style=filled]\n139866525213792 [label=\"() float64\", color=orange, style=filled]\n139866525311424 [label=\"Add\", color=lightblue, style=filled, shape=box]\n139866525311232 -> 139866525311424\n139866525213408 -> 139866525311424\n139866525311424 -> 139866525213792\n139866525311232 [label=\"() float64\", color=orange, style=filled]\n139866525213408 [label=\"() int64\", color=orange, style=filled]\n139866525311568 [label=\"Mul\", color=lightblue, style=filled, shape=box]\n139866525323520 -> 139866525311568\n139866525311328 -> 139866525311568\n139866525311568 -> 139866525311232\n139866525323520 [label=\"() float64\", color=orange, style=filled]\n139866525311328 [label=\"() float64\", color=orange, style=filled]\n139866525312384 [label=\"Add\", color=lightblue, style=filled, shape=box]\n139866525311712 -> 139866525312384\n139866525312192 -> 139866525312384\n139866525312384 -> 139866525311328\n139866525311712 [label=\"() float64\", color=orange, style=filled]\n139866525312192 [label=\"() float64\", color=orange, style=filled]\n139866525311760 [label=\"Mul\", color=lightblue, style=filled, shape=box]\n139866525312288 -> 139866525311760\n139866525312528 -> 139866525311760\n139866525311760 -> 139866525312192\n139866525312288 [label=\"() float64\", color=orange, style=filled]\n139866525312528 [label=\"() int64\", color=orange, style=filled]\n139866525311904 [label=\"Pow\", color=lightblue, style=filled, shape=box]\n139866525361728 -> 139866525311904\n139866525311904 -> 139866525312288\n139866525361728 [label=\"() float64\", color=orange, style=filled]\n139866525311856 [label=\"Sub\", color=lightblue, style=filled, shape=box]\n139866525313056 -> 139866525311856\n139866525313536 -> 139866525311856\n139866525311856 -> 139866525311712\n139866525313056 [label=\"() float64\", color=orange, style=filled]\n139866525313536 [label=\"() float64\", color=orange, style=filled]\n139866525313344 [label=\"Mul\", color=lightblue, style=filled, shape=box]\n139866525313680 -> 139866525313344\n139866525361728 -> 139866525313344\n139866525313344 -> 139866525313536\n139866525313680 [label=\"() float64\", color=orange, style=filled]\n139866525361728 [label=\"() float64\", color=orange, style=filled]\n139866525312912 [label=\"Mul\", color=lightblue, style=filled, shape=box]\n139865907879168 -> 139866525312912\n139866525313104 -> 139866525312912\n139866525312912 -> 139866525313680\n139865907879168 [label=\"() float64\", color=orange, style=filled]\n139866525313104 [label=\"() int64\", color=orange, style=filled]\n139866525312816 [label=\"Add\", color=lightblue, style=filled, shape=box]\n139866525314400 -> 139866525312816\n139866525313008 -> 139866525312816\n139866525312816 -> 139866525313056\n139866525314400 [label=\"() float64\", color=orange, style=filled]\n139866525313008 [label=\"() float64\", color=orange, style=filled]\n139866525314064 [label=\"Mul\", color=lightblue, style=filled, shape=box]\n139866525361728 -> 139866525314064\n139866525314256 -> 139866525314064\n139866525314064 -> 139866525313008\n139866525361728 [label=\"() float64\", color=orange, style=filled]\n139866525314256 [label=\"() int64\", color=orange, style=filled]\n139866525313632 [label=\"Add\", color=lightblue, style=filled, shape=box]\n139866525314832 -> 139866525313632\n139866525312960 -> 139866525313632\n139866525313632 -> 139866525314400\n139866525314832 [label=\"() float64\", color=orange, style=filled]\n139866525312960 [label=\"() float64\", color=orange, style=filled]\n139866525313776 [label=\"Mul\", color=lightblue, style=filled, shape=box]\n139866525314112 -> 139866525313776\n139866525313824 -> 139866525313776\n139866525313776 -> 139866525312960\n139866525314112 [label=\"() float64\", color=orange, style=filled]\n139866525313824 [label=\"() int64\", color=orange, style=filled]\n139866525315024 [label=\"Pow\", color=lightblue, style=filled, shape=box]\n139865907879168 -> 139866525315024\n139866525315024 -> 139866525314112\n139865907879168 [label=\"() float64\", color=orange, style=filled]\n139866525313248 [label=\"Sub\", color=lightblue, style=filled, shape=box]\n139866525314976 -> 139866525313248\n139866525313920 -> 139866525313248\n139866525313248 -> 139866525314832\n139866525314976 [label=\"() int64\", color=orange, style=filled]\n139866525313920 [label=\"() float64\", color=orange, style=filled]\n139866525323472 [label=\"Mul\", color=lightblue, style=filled, shape=box]\n139865907879168 -> 139866525323472\n139866525314928 -> 139866525323472\n139866525323472 -> 139866525313920\n139865907879168 [label=\"() float64\", color=orange, style=filled]\n139866525314928 [label=\"() int64\", color=orange, style=filled]\n139866525324672 [label=\"Pow\", color=lightblue, style=filled, shape=box]\n139866525324480 -> 139866525324672\n139866525324672 -> 139866525323520\n139866525324480 [label=\"() float64\", color=orange, style=filled]\n139866525324816 [label=\"Sub\", color=lightblue, style=filled, shape=box]\n139866525323952 -> 139866525324816\n139866525324240 -> 139866525324816\n139866525324816 -> 139866525324480\n139866525323952 [label=\"() float64\", color=orange, style=filled]\n139866525324240 [label=\"() float64\", color=orange, style=filled]\n139866525324192 [label=\"Mul\", color=lightblue, style=filled, shape=box]\n139866525361728 -> 139866525324192\n139866525324048 -> 139866525324192\n139866525324192 -> 139866525324240\n139866525361728 [label=\"() float64\", color=orange, style=filled]\n139866525324048 [label=\"() int64\", color=orange, style=filled]\n139866525325680 [label=\"Mul\", color=lightblue, style=filled, shape=box]\n139865907879168 -> 139866525325680\n139866525324144 -> 139866525325680\n139866525325680 -> 139866525323952\n139865907879168 [label=\"() float64\", color=orange, style=filled]\n139866525324144 [label=\"() int64\", color=orange, style=filled]\n139866525325248 [label=\"Add\", color=lightblue, style=filled, shape=box]\n139866525325056 -> 139866525325248\n139866525325824 -> 139866525325248\n139866525325248 -> 139866525325488\n139866525325056 [label=\"() float64\", color=orange, style=filled]\n139866525325824 [label=\"() int64\", color=orange, style=filled]\n139866525325200 [label=\"Mul\", color=lightblue, style=filled, shape=box]\n139866525334880 -> 139866525325200\n139866525324768 -> 139866525325200\n139866525325200 -> 139866525325056\n139866525334880 [label=\"() float64\", color=orange, style=filled]\n139866525324768 [label=\"() float64\", color=orange, style=filled]\n139866525325152 [label=\"Add\", color=lightblue, style=filled, shape=box]\n139866525326400 -> 139866525325152\n139866525326880 -> 139866525325152\n139866525325152 -> 139866525324768\n139866525326400 [label=\"() float64\", color=orange, style=filled]\n139866525326880 [label=\"() float64\", color=orange, style=filled]\n139866525326448 [label=\"Mul\", color=lightblue, style=filled, shape=box]\n139866525326928 -> 139866525326448\n139866525326688 -> 139866525326448\n139866525326448 -> 139866525326880\n139866525326928 [label=\"() float64\", color=orange, style=filled]\n139866525326688 [label=\"() int64\", color=orange, style=filled]\n139866525326256 [label=\"Pow\", color=lightblue, style=filled, shape=box]\n139866525361728 -> 139866525326256\n139866525326256 -> 139866525326928\n139866525361728 [label=\"() float64\", color=orange, style=filled]\n139866525326160 [label=\"Add\", color=lightblue, style=filled, shape=box]\n139866525331856 -> 139866525326160\n139866525326352 -> 139866525326160\n139866525326160 -> 139866525326400\n139866525331856 [label=\"() float64\", color=orange, style=filled]\n139866525326352 [label=\"() float64\", color=orange, style=filled]\n139866525327264 [label=\"Mul\", color=lightblue, style=filled, shape=box]\n139866525327216 -> 139866525327264\n139866525361728 -> 139866525327264\n139866525327264 -> 139866525326352\n139866525327216 [label=\"() float64\", color=orange, style=filled]\n139866525361728 [label=\"() float64\", color=orange, style=filled]\n139866525324336 [label=\"Mul\", color=lightblue, style=filled, shape=box]\n139865907879168 -> 139866525324336\n139866525327120 -> 139866525324336\n139866525324336 -> 139866525327216\n139865907879168 [label=\"() float64\", color=orange, style=filled]\n139866525327120 [label=\"() int64\", color=orange, style=filled]\n139866525332048 [label=\"Sub\", color=lightblue, style=filled, shape=box]\n139866525331952 -> 139866525332048\n139866525332288 -> 139866525332048\n139866525332048 -> 139866525331856\n139866525331952 [label=\"() float64\", color=orange, style=filled]\n139866525332288 [label=\"() float64\", color=orange, style=filled]\n139866525332000 [label=\"Mul\", color=lightblue, style=filled, shape=box]\n139866525361728 -> 139866525332000\n139866525332144 -> 139866525332000\n139866525332000 -> 139866525332288\n139866525361728 [label=\"() float64\", color=orange, style=filled]\n139866525332144 [label=\"() int64\", color=orange, style=filled]\n139866525332912 [label=\"Add\", color=lightblue, style=filled, shape=box]\n139866525332192 -> 139866525332912\n139866525333104 -> 139866525332912\n139866525332912 -> 139866525331952\n139866525332192 [label=\"() float64\", color=orange, style=filled]\n139866525333104 [label=\"() float64\", color=orange, style=filled]\n139866525333056 [label=\"Mul\", color=lightblue, style=filled, shape=box]\n139866525332720 -> 139866525333056\n139866525333344 -> 139866525333056\n139866525333056 -> 139866525333104\n139866525332720 [label=\"() float64\", color=orange, style=filled]\n139866525333344 [label=\"() int64\", color=orange, style=filled]\n139866525332480 [label=\"Pow\", color=lightblue, style=filled, shape=box]\n139865907879168 -> 139866525332480\n139866525332480 -> 139866525332720\n139865907879168 [label=\"() float64\", color=orange, style=filled]\n139866525333920 [label=\"Sub\", color=lightblue, style=filled, shape=box]\n139866525333008 -> 139866525333920\n139866525334112 -> 139866525333920\n139866525333920 -> 139866525332192\n139866525333008 [label=\"() int64\", color=orange, style=filled]\n139866525334112 [label=\"() float64\", color=orange, style=filled]\n139866525335312 [label=\"Mul\", color=lightblue, style=filled, shape=box]\n139865907879168 -> 139866525335312\n139866525334352 -> 139866525335312\n139866525335312 -> 139866525334112\n139865907879168 [label=\"() float64\", color=orange, style=filled]\n139866525334352 [label=\"() int64\", color=orange, style=filled]\n139866525344624 [label=\"Pow\", color=lightblue, style=filled, shape=box]\n139866525345296 -> 139866525344624\n139866525344624 -> 139866525334880\n139866525345296 [label=\"() float64\", color=orange, style=filled]\n139865907762320 [label=\"Add\", color=lightblue, style=filled, shape=box]\n139866525361824 -> 139865907762320\n139866525344528 -> 139865907762320\n139865907762320 -> 139866525345296\n139866525361824 [label=\"() float64\", color=orange, style=filled]\n139866525344528 [label=\"() int64\", color=orange, style=filled]\n139866525362304 [label=\"Add\", color=lightblue, style=filled, shape=box]\n139865907879168 -> 139866525362304\n139866525361728 -> 139866525362304\n139866525362304 -> 139866525361824\n139865907879168 [label=\"() float64\", color=orange, style=filled]\n139866525361728 [label=\"() float64\", color=orange, style=filled]\n}\ndot /home/cod3holic/.dezero/tmp_graph.dot -T png -o dot.png\n"
     ]
    }
   ],
   "source": [
    "import os\n",
    "import subprocess\n",
    "\n",
    "def _dot_var(v, verbose=False):\n",
    "    name = '' if v.name is None else v.name\n",
    "    if verbose and v.data is not None:\n",
    "        if v.name is not None:\n",
    "            name += ':'\n",
    "        name += str(v.shape) + ' ' + str(v.dtype)\n",
    "    return f'{id(v)} [label=\"{name}\", color=orange, style=filled]\\n'\n",
    "\n",
    "def _dot_func(f):\n",
    "    txt = f'{id(f)} [label=\"{f.__class__.__name__}\", color=lightblue, style=filled, shape=box]\\n'\n",
    "    \n",
    "    dot_edge = '{} -> {}\\n'\n",
    "    for x in f.inputs:\n",
    "        txt += dot_edge.format(id(x), id(f))\n",
    "    for y in f.outputs:\n",
    "        txt += dot_edge.format(id(f), id(y()))\n",
    "    return txt\n",
    "\n",
    "def get_dot_graph(output, verbose=True):\n",
    "    txt = ''\n",
    "    seen_set = set()\n",
    "    funcs = []\n",
    "\n",
    "    def add_func(f):\n",
    "        if f not in seen_set:\n",
    "            seen_set.add(f)\n",
    "            funcs.append(f)\n",
    "    \n",
    "    add_func(output.creator)\n",
    "    txt += _dot_var(output)\n",
    "\n",
    "    while funcs:\n",
    "        f = funcs.pop()\n",
    "        txt += _dot_func(f)\n",
    "        for x in f.inputs:\n",
    "            txt += _dot_var(x, verbose=verbose)\n",
    "            if x.creator is not None:\n",
    "                add_func(x.creator)\n",
    "\n",
    "    return 'digraph g {\\n' + txt + '}'\n",
    "\n",
    "def plot_dot_graph(output, verbose=True, to_file='dot.png'):\n",
    "    dot_graph = get_dot_graph(output, verbose)\n",
    "    tmp_dir = os.path.join(os.path.expanduser('~'), '.dezero')\n",
    "    if not os.path.exists(tmp_dir):\n",
    "        os.mkdir(tmp_dir)\n",
    "    graph_path = os.path.join(tmp_dir, 'tmp_graph.dot')\n",
    "\n",
    "    with open(graph_path, 'w') as f:\n",
    "        f.write(dot_graph)\n",
    "    \n",
    "    extension = os.path.splitext(to_file)[1][1:]\n",
    "    cmd = f'dot {graph_path} -T {extension} -o {to_file}'\n",
    "    print(cmd)\n",
    "    subprocess.run(cmd, shell=True)\n",
    "\n",
    "print(get_dot_graph(z))\n",
    "plot_dot_graph(z)"
   ]
  },
  {
   "cell_type": "code",
   "execution_count": 24,
   "metadata": {},
   "outputs": [
    {
     "output_type": "error",
     "ename": "NameError",
     "evalue": "name '__file__' is not defined",
     "traceback": [
      "\u001b[0;31m---------------------------------------------------------------------------\u001b[0m",
      "\u001b[0;31mNameError\u001b[0m                                 Traceback (most recent call last)",
      "\u001b[0;32m/tmp/ipykernel_157289/2632168627.py\u001b[0m in \u001b[0;36m<module>\u001b[0;34m\u001b[0m\n\u001b[1;32m      1\u001b[0m \u001b[0;32mimport\u001b[0m \u001b[0mos\u001b[0m\u001b[0;34m\u001b[0m\u001b[0;34m\u001b[0m\u001b[0m\n\u001b[0;32m----> 2\u001b[0;31m \u001b[0mos\u001b[0m\u001b[0;34m.\u001b[0m\u001b[0mpath\u001b[0m\u001b[0;34m.\u001b[0m\u001b[0mdirname\u001b[0m\u001b[0;34m(\u001b[0m\u001b[0m__file__\u001b[0m\u001b[0;34m)\u001b[0m\u001b[0;34m\u001b[0m\u001b[0;34m\u001b[0m\u001b[0m\n\u001b[0m",
      "\u001b[0;31mNameError\u001b[0m: name '__file__' is not defined"
     ]
    }
   ],
   "source": [
    "import os\n",
    "os.path.dirname(__file__)"
   ]
  },
  {
   "source": [
    "## External Modules"
   ],
   "cell_type": "markdown",
   "metadata": {}
  },
  {
   "cell_type": "code",
   "execution_count": 2,
   "metadata": {},
   "outputs": [
    {
     "output_type": "stream",
     "name": "stdout",
     "text": [
      "Requirement already satisfied: memory_profiler in /home/cod3holic/.local/lib/python3.8/site-packages (0.58.0)\n",
      "Requirement already satisfied: psutil in /home/cod3holic/.local/lib/python3.8/site-packages (from memory_profiler) (5.8.0)\n",
      "[sudo] password for cod3holic: \n"
     ]
    }
   ],
   "source": [
    "!pip install memory_profiler\n",
    "!apt install graphviz"
   ]
  }
 ]
}