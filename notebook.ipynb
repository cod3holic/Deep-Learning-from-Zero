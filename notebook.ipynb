{
 "metadata": {
  "language_info": {
   "codemirror_mode": {
    "name": "ipython",
    "version": 3
   },
   "file_extension": ".py",
   "mimetype": "text/x-python",
   "name": "python",
   "nbconvert_exporter": "python",
   "pygments_lexer": "ipython3",
   "version": "3.8.10"
  },
  "orig_nbformat": 2,
  "kernelspec": {
   "name": "python3810jvsc74a57bd0916dbcbb3f70747c44a77c7bcd40155683ae19c65e1c03b4aa3499c5328201f1",
   "display_name": "Python 3.8.10 64-bit"
  },
  "metadata": {
   "interpreter": {
    "hash": "916dbcbb3f70747c44a77c7bcd40155683ae19c65e1c03b4aa3499c5328201f1"
   }
  }
 },
 "nbformat": 4,
 "nbformat_minor": 2,
 "cells": [
  {
   "cell_type": "code",
   "execution_count": 20,
   "metadata": {},
   "outputs": [],
   "source": [
    "import numpy as np\n",
    "import unittest\n",
    "import heapq as hq\n",
    "import copy"
   ]
  },
  {
   "cell_type": "code",
   "execution_count": 21,
   "metadata": {},
   "outputs": [],
   "source": [
    "def numerical_diff(f, x, eps=1e-4):\n",
    "    return (f(Variable(x.data+eps)).data - f(Variable(x.data-eps)).data) / (2*eps)\n",
    "def as_array(x):\n",
    "    if np.isscalar(x):\n",
    "        return np.array(x)\n",
    "    return x"
   ]
  },
  {
   "cell_type": "code",
   "execution_count": 28,
   "metadata": {},
   "outputs": [],
   "source": [
    "class Variable:\n",
    "    def __init__(self, data):\n",
    "        if data is not None:\n",
    "            if not isinstance(data, np.ndarray):\n",
    "                raise TypeError(f'{type(data)}는 지원하지 않습니다.')\n",
    "        self.data = data\n",
    "        self.grad = None\n",
    "        self.creator = None\n",
    "        self.generation = 0\n",
    "\n",
    "    def __str__(self):\n",
    "        return f'{self.generation} gen : [{__class__}], {id(self)}'\n",
    "\n",
    "    def set_creator(self, func):\n",
    "        self.creator = func\n",
    "        self.generation = func.generation + 1\n",
    "\n",
    "    def cleargrad(self):\n",
    "        self.grad = None\n",
    "\n",
    "    def backward(self):\n",
    "        if self.grad is None:\n",
    "            self.grad = np.ones_like(self.data)\n",
    "        seen_set = set()\n",
    "        funcs = []\n",
    "\n",
    "        def add_func(f):\n",
    "            if f not in seen_set:\n",
    "                seen_set.add(f)\n",
    "                hq.heappush(funcs, f)\n",
    "        \n",
    "        add_func(self.creator)\n",
    "\n",
    "        while funcs:\n",
    "            f = hq.heappop(funcs)\n",
    "            gys = [output.grad for output in f.outputs]\n",
    "            gxs = f.backward(*gys)\n",
    "            if not isinstance(gxs, tuple):\n",
    "                gxs = (gxs, )\n",
    "            for x, gx in zip(f.inputs, gxs):\n",
    "                x.grad = gx if x.grad is None else gx + x.grad\n",
    "                if x.creator is not None:\n",
    "                    add_func(x.creator)\n",
    "\n",
    "class Function:\n",
    "    def __call__(self, *inputs):\n",
    "        xs = [x.data for x in inputs]\n",
    "        ys = self.forward(*xs)\n",
    "        if not isinstance(ys, tuple):\n",
    "            ys = (ys, )\n",
    "        self.generation = max([x.generation for x in inputs])\n",
    "        outputs = [Variable(as_array(y)) for y in ys]\n",
    "        for output in outputs:\n",
    "            output.set_creator(self)\n",
    "        self.inputs = inputs\n",
    "        self.outputs = outputs\n",
    "        return outputs if len(outputs) > 1 else outputs[0]\n",
    "\n",
    "    def __lt__(self, other): # generation heap\n",
    "        if self.generation > other.generation:\n",
    "            return True\n",
    "        return False\n",
    "\n",
    "    def __str__(self):\n",
    "        return f'{self.generation} gen : [{__class__}], {id(self)}'\n",
    "\n",
    "    def forward(self, x):\n",
    "        raise NotImplementedError()\n",
    "\n",
    "    def backward(self, x):\n",
    "        raise NotImplementedError()\n",
    "\n",
    "class Square(Function):\n",
    "    def forward(self, x):\n",
    "        return x**2\n",
    "    def backward(self, gy):\n",
    "        x = self.inputs[0].data\n",
    "        return 2 * x * gy\n",
    "\n",
    "class Exp(Function):\n",
    "    def forward(self, x):\n",
    "        return np.exp(x)\n",
    "    def backward(self, gy):\n",
    "        return np.exp(self.inputs.data) * gy\n",
    "\n",
    "class Add(Function):\n",
    "    def forward(self, x0, x1):\n",
    "        return (x0 + x1, )\n",
    "    def backward(self, gy):\n",
    "        return gy, gy"
   ]
  },
  {
   "cell_type": "code",
   "execution_count": 29,
   "metadata": {},
   "outputs": [],
   "source": [
    "class SquareTest(unittest.TestCase):\n",
    "    def test_forward(self):\n",
    "        x = Variable(np.array(2.0))\n",
    "        y = square(x)\n",
    "        expected = np.array(4.0)\n",
    "        self.assertEqual(y.data, expected)\n",
    "    def test_backward(self):\n",
    "        x = Variable(np.array(3.0))\n",
    "        y = square(x)\n",
    "        y.backward()\n",
    "        expected = np.array(6)\n",
    "        self.assertEqual(x.grad, expected)\n",
    "    def test_gradient_check(self):\n",
    "        x = Variable(np.random.rand(1))\n",
    "        y = square(x)\n",
    "        y.backward()\n",
    "        num_grad = numerical_diff(square, x)\n",
    "        flg = np.allclose(x.grad, num_grad)\n",
    "        self.assertTrue(flg)"
   ]
  },
  {
   "cell_type": "code",
   "execution_count": 30,
   "metadata": {},
   "outputs": [],
   "source": [
    "def square(x):\n",
    "    return Square()(x)\n",
    "def exp(x):\n",
    "    return Exp()(x)\n",
    "def add(x, y):\n",
    "    return Add()(x, y)"
   ]
  },
  {
   "cell_type": "code",
   "execution_count": 31,
   "metadata": {},
   "outputs": [
    {
     "output_type": "stream",
     "name": "stdout",
     "text": [
      "139891078027280\n9484816\n"
     ]
    }
   ],
   "source": [
    "print(id(hq))\n",
    "d = hq.heapify([])\n",
    "print(id(d))"
   ]
  },
  {
   "cell_type": "code",
   "execution_count": 35,
   "metadata": {},
   "outputs": [
    {
     "output_type": "stream",
     "name": "stdout",
     "text": [
      "32.0 64.0 16.0\n0 gen : [<class '__main__.Variable'>], 139890275991616 1 gen : [<class '__main__.Variable'>], 139890269812288 2 gen : [<class '__main__.Variable'>], 139890274367328 2 gen : [<class '__main__.Variable'>], 139890274368624 3 gen : [<class '__main__.Variable'>], 139890272660592\n"
     ]
    }
   ],
   "source": [
    "x = Variable(np.array(2.0))\n",
    "a = square(x)\n",
    "b = square(a)\n",
    "c = square(a)\n",
    "y = add(b, c)\n",
    "y.backward()\n",
    "print(y.data, x.grad, a.grad)\n",
    "print(x, a, b, c, y)"
   ]
  },
  {
   "cell_type": "code",
   "execution_count": null,
   "metadata": {},
   "outputs": [],
   "source": []
  },
  {
   "cell_type": "code",
   "execution_count": null,
   "metadata": {},
   "outputs": [],
   "source": []
  }
 ]
}