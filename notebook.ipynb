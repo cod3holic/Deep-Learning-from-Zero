{
 "metadata": {
  "language_info": {
   "codemirror_mode": {
    "name": "ipython",
    "version": 3
   },
   "file_extension": ".py",
   "mimetype": "text/x-python",
   "name": "python",
   "nbconvert_exporter": "python",
   "pygments_lexer": "ipython3",
   "version": "3.8.10"
  },
  "orig_nbformat": 2,
  "kernelspec": {
   "name": "python3810jvsc74a57bd0916dbcbb3f70747c44a77c7bcd40155683ae19c65e1c03b4aa3499c5328201f1",
   "display_name": "Python 3.8.10 64-bit"
  },
  "metadata": {
   "interpreter": {
    "hash": "916dbcbb3f70747c44a77c7bcd40155683ae19c65e1c03b4aa3499c5328201f1"
   }
  }
 },
 "nbformat": 4,
 "nbformat_minor": 2,
 "cells": [
  {
   "cell_type": "code",
   "execution_count": 1,
   "metadata": {},
   "outputs": [],
   "source": [
    "import numpy as np\n",
    "import unittest\n",
    "import heapq as hq\n",
    "import weakref\n",
    "import contextlib"
   ]
  },
  {
   "cell_type": "code",
   "execution_count": 2,
   "metadata": {},
   "outputs": [],
   "source": [
    "class Config:\n",
    "    enable_backprop = True\n",
    "\n",
    "@contextlib.contextmanager\n",
    "def using_config(name, value):\n",
    "    old_value = getattr(Config, name)\n",
    "    setattr(Config, name, value)\n",
    "    try:\n",
    "        yield\n",
    "    finally:\n",
    "        setattr(Config, name, old_value)"
   ]
  },
  {
   "cell_type": "code",
   "execution_count": 3,
   "metadata": {},
   "outputs": [],
   "source": [
    "def numerical_diff(f, x, eps=1e-4):\n",
    "    return (f(Variable(x.data+eps)).data - f(Variable(x.data-eps)).data) / (2*eps)\n",
    "\n",
    "def as_array(x):\n",
    "    if np.isscalar(x):\n",
    "        return np.array(x)\n",
    "    return x\n",
    "\n",
    "def as_variable(obj):\n",
    "    if isinstance(obj, Variable):\n",
    "        return obj\n",
    "    return Variable(obj)\n",
    "\n",
    "def no_grad():\n",
    "    return using_config('enable_backprop', False)"
   ]
  },
  {
   "cell_type": "code",
   "execution_count": 4,
   "metadata": {},
   "outputs": [],
   "source": [
    "class Variable:\n",
    "    __array_priority__ = 200\n",
    "\n",
    "    def __init__(self, data, name=None):\n",
    "        if data is not None:\n",
    "            if not isinstance(data, np.ndarray):\n",
    "                raise TypeError(f'{type(data)}는 지원하지 않습니다.')\n",
    "        self.name = name\n",
    "        self.data = data\n",
    "        self.grad = None\n",
    "        self.creator = None\n",
    "        self.generation = 0\n",
    "\n",
    "    def __len__(self):\n",
    "        return len(self.data)\n",
    "    \n",
    "    def __repr__(self):\n",
    "        if self.data is None:\n",
    "            return 'variable(None)'\n",
    "        p = str(self.data).replace(\"\\\\n\", \"\\\\n\"+\" \"*9)\n",
    "        return f'variable({p})'\n",
    "\n",
    "    @property\n",
    "    def shape(self):\n",
    "        return self.data.shape\n",
    "\n",
    "    @property\n",
    "    def ndim(self):\n",
    "        return self.data.size\n",
    "    \n",
    "    @property\n",
    "    def dtype(self):\n",
    "        return self.data.dtype\n",
    "\n",
    "    def set_creator(self, func):\n",
    "        self.creator = func\n",
    "        self.generation = func.generation + 1\n",
    "\n",
    "    def cleargrad(self):\n",
    "        self.grad = None\n",
    "\n",
    "    def backward(self, retain_grad=False):\n",
    "        if self.grad is None:\n",
    "            self.grad = np.ones_like(self.data)\n",
    "        seen_set = set()\n",
    "        funcs = []\n",
    "\n",
    "        def add_func(f):\n",
    "            if f not in seen_set:\n",
    "                seen_set.add(f)\n",
    "                hq.heappush(funcs, f)\n",
    "        \n",
    "        add_func(self.creator)\n",
    "\n",
    "        while funcs:\n",
    "            f = hq.heappop(funcs)\n",
    "            gys = [output().grad for output in f.outputs]\n",
    "            gxs = f.backward(*gys)\n",
    "            if not isinstance(gxs, tuple):\n",
    "                gxs = (gxs, )\n",
    "            for x, gx in zip(f.inputs, gxs):\n",
    "                x.grad = gx if x.grad is None else gx + x.grad\n",
    "                if x.creator is not None:\n",
    "                    add_func(x.creator)\n",
    "            if not retain_grad:\n",
    "                for y in f.outputs:\n",
    "                    y().grad = None\n",
    "\n",
    "class Function:\n",
    "    def __call__(self, *inputs):\n",
    "        inputs = [as_variable(x) for x in inputs]\n",
    "        xs = [x.data for x in inputs]\n",
    "        ys = self.forward(*xs)\n",
    "        if not isinstance(ys, tuple):\n",
    "            ys = (ys, )\n",
    "        outputs = [Variable(as_array(y)) for y in ys]\n",
    "        \n",
    "        if Config.enable_backprop:\n",
    "            self.generation = max([x.generation for x in inputs])\n",
    "            for output in outputs:\n",
    "                output.set_creator(self)\n",
    "            self.inputs = inputs\n",
    "            self.outputs = [weakref.ref(output) for output in outputs]\n",
    "\n",
    "            return outputs if len(outputs) > 1 else outputs[0]\n",
    "\n",
    "    def __lt__(self, other): # this for generation heap\n",
    "        if self.generation > other.generation:\n",
    "            return True\n",
    "        return False\n",
    "\n",
    "    def __str__(self):\n",
    "        return f'{self.generation} gen : [{__class__}], {id(self)}'\n",
    "\n",
    "    def forward(self, x):\n",
    "        raise NotImplementedError()\n",
    "\n",
    "    def backward(self, x):\n",
    "        raise NotImplementedError()"
   ]
  },
  {
   "cell_type": "code",
   "execution_count": 13,
   "metadata": {},
   "outputs": [],
   "source": [
    "class Neg(Function):\n",
    "    def forward(self, x):\n",
    "        return -1 * x\n",
    "    def backward(self, gy):\n",
    "        return -1*gy\n",
    "\n",
    "class Pow(Function):\n",
    "    def __init__(self, c):\n",
    "        self.c = c\n",
    "    def forward(self, x):\n",
    "        return x**self.c\n",
    "    def backward(self, gy):\n",
    "        x = self.inputs[0].data\n",
    "        c = self.c\n",
    "        return gy*c*x**(c-1)\n",
    "\n",
    "class Square(Function):\n",
    "    def forward(self, x):\n",
    "        return x**2\n",
    "    def backward(self, gy):\n",
    "        x = self.inputs[0].data\n",
    "        return 2 * x * gy\n",
    "\n",
    "class Exp(Function):\n",
    "    def forward(self, x):\n",
    "        return np.exp(x)\n",
    "    def backward(self, gy):\n",
    "        return np.exp(self.inputs.data) * gy\n",
    "\n",
    "class Add(Function):\n",
    "    def forward(self, x0, x1):\n",
    "        return x0 + x1\n",
    "    def backward(self, gy):\n",
    "        return gy, gy\n",
    "\n",
    "class Mul(Function):\n",
    "    def forward(self, x0, x1):\n",
    "        return x0 * x1\n",
    "    def backward(self, gy):\n",
    "        x0, x1 = self.input[0].data, self.input[1].data\n",
    "        return x1*gy, x0*gy\n",
    "\n",
    "class Sub(Function):\n",
    "    def forward(self, x0, x1):\n",
    "        return x0 - x1\n",
    "    def backward(self, gy):\n",
    "        return gy, -gy\n",
    "\n",
    "class Div(Function):\n",
    "    def forward(self, x0, x1):\n",
    "        return x0 / x1\n",
    "    def backward(self, gy):\n",
    "        x0, x1 = self.inputs[0].data, self.inputs[1].data\n",
    "        return gy/x1, (-x0/x1**2)*gy\n",
    "\n",
    "def neg(x):\n",
    "    return Neg()(x)\n",
    "def pow(x, c):\n",
    "    return Pow(c)(x)\n",
    "def square(x):\n",
    "    return Square()(x)\n",
    "def exp(x):\n",
    "    return Exp()(x)\n",
    "def add(x, y):\n",
    "    y = as_array(y)\n",
    "    return Add()(x, y)\n",
    "def mul(x, y):\n",
    "    y = as_array(y)\n",
    "    return Mul()(x, y)\n",
    "def sub(x, y):\n",
    "    y = as_array(y)\n",
    "    return Sub()(x, y)\n",
    "def rsub(x, y):\n",
    "    y = as_array(y)\n",
    "    return Sub()(y, x)\n",
    "def div(x, y):\n",
    "    y = as_array(y)\n",
    "    return Div()(x, y)\n",
    "def rdiv(x, y):\n",
    "    y = as_array(y)\n",
    "    return Div()(y, x)\n",
    "\n",
    "Variable.__neg__ = neg\n",
    "Variable.__pow__ = pow\n",
    "Variable.__add__ = add\n",
    "Variable.__radd__ = add\n",
    "Variable.__mul__ = mul\n",
    "Variable.__rmul__ = mul\n",
    "Variable.__sub__ = sub\n",
    "Variable.__rsub__ = rsub\n",
    "Variable.__truediv__ = div\n",
    "Variable.__rtruediv__ = rdiv"
   ]
  },
  {
   "cell_type": "code",
   "execution_count": 6,
   "metadata": {},
   "outputs": [],
   "source": [
    "class SquareTest(unittest.TestCase):\n",
    "    def test_forward(self):\n",
    "        x = Variable(np.array(2.0))\n",
    "        y = square(x)\n",
    "        expected = np.array(4.0)\n",
    "        self.assertEqual(y.data, expected)\n",
    "    def test_backward(self):\n",
    "        x = Variable(np.array(3.0))\n",
    "        y = square(x)\n",
    "        y.backward()\n",
    "        expected = np.array(6)\n",
    "        self.assertEqual(x.grad, expected)\n",
    "    def test_gradient_check(self):\n",
    "        x = Variable(np.random.rand(1))\n",
    "        y = square(x)\n",
    "        y.backward()\n",
    "        num_grad = numerical_diff(square, x)\n",
    "        flg = np.allclose(x.grad, num_grad)\n",
    "        self.assertTrue(flg)"
   ]
  },
  {
   "cell_type": "code",
   "execution_count": 7,
   "metadata": {},
   "outputs": [
    {
     "output_type": "stream",
     "name": "stdout",
     "text": [
      "140396939479136\n9484816\n"
     ]
    }
   ],
   "source": [
    "print(id(hq))\n",
    "d = hq.heapify([])\n",
    "print(id(d))"
   ]
  },
  {
   "cell_type": "code",
   "execution_count": 8,
   "metadata": {},
   "outputs": [
    {
     "output_type": "stream",
     "name": "stdout",
     "text": [
      "32.0 64.0 None\nvariable(2.0) variable(4.0) variable(16.0) variable(16.0) variable(32.0)\n"
     ]
    }
   ],
   "source": [
    "x = Variable(np.array(2.0))\n",
    "a = square(x)\n",
    "b = square(a)\n",
    "c = square(a)\n",
    "y = add(b, c)\n",
    "y.backward()\n",
    "print(y.data, x.grad, a.grad)\n",
    "print(x, a, b, c, y)"
   ]
  },
  {
   "cell_type": "code",
   "execution_count": 17,
   "metadata": {},
   "outputs": [
    {
     "output_type": "stream",
     "name": "stdout",
     "text": [
      "variable(8.0) 12.0\n"
     ]
    }
   ],
   "source": [
    "x = Variable(np.array(2.0))\n",
    "y = x ** 3\n",
    "y.backward()\n",
    "print(y, x.grad)"
   ]
  },
  {
   "cell_type": "code",
   "execution_count": 10,
   "metadata": {},
   "outputs": [],
   "source": [
    "with no_grad():\n",
    "    x = Variable(np.array(2.0))\n",
    "    y = square(x)"
   ]
  },
  {
   "source": [
    "## External Modules"
   ],
   "cell_type": "markdown",
   "metadata": {}
  },
  {
   "cell_type": "code",
   "execution_count": 11,
   "metadata": {},
   "outputs": [
    {
     "output_type": "stream",
     "name": "stdout",
     "text": [
      "Requirement already satisfied: memory_profiler in /home/cod3holic/.local/lib/python3.8/site-packages (0.58.0)\nRequirement already satisfied: psutil in /home/cod3holic/.local/lib/python3.8/site-packages (from memory_profiler) (5.8.0)\n"
     ]
    }
   ],
   "source": [
    "!pip install memory_profiler"
   ]
  }
 ]
}